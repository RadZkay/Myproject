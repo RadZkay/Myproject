{
 "cells": [
  {
   "cell_type": "code",
   "execution_count": 1,
   "metadata": {},
   "outputs": [],
   "source": [
    "\n",
    "\n",
    "a = 3000\n",
    "b = 1\n",
    "c = 0\n",
    "d = a * b + c\n",
    "e = d + 2\n",
    "f = \"Tolong masukan nominal kembali\""
   ]
  },
  {
   "cell_type": "code",
   "execution_count": 2,
   "metadata": {},
   "outputs": [
    {
     "name": "stdout",
     "output_type": "stream",
     "text": [
      "Silahkan ganti metode pembayaran\n"
     ]
    }
   ],
   "source": [
    "\n",
    "if d > 100000000 :\n",
    "    print (\"Saldo anda Kurang\")\n",
    "elif d == 200 :\n",
    "    print (\"saldo anda cukup\")\n",
    "elif e == 0 :\n",
    "    print (f)\n",
    "else : print (\"Silahkan ganti metode pembayaran\")\n"
   ]
  },
  {
   "cell_type": "code",
   "execution_count": 3,
   "metadata": {},
   "outputs": [],
   "source": []
  }
 ],
 "metadata": {
  "kernelspec": {
   "display_name": "Python 3",
   "language": "python",
   "name": "python3"
  },
  "language_info": {
   "codemirror_mode": {
    "name": "ipython",
    "version": 3
   },
   "file_extension": ".py",
   "mimetype": "text/x-python",
   "name": "python",
   "nbconvert_exporter": "python",
   "pygments_lexer": "ipython3",
   "version": "3.6.2"
  }
 },
 "nbformat": 4,
 "nbformat_minor": 2
}
